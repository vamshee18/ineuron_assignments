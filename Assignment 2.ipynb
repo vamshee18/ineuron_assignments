{
 "cells": [
  {
   "cell_type": "markdown",
   "metadata": {},
   "source": [
    "1. Create the star pattern using nested for loop in Python."
   ]
  },
  {
   "cell_type": "code",
   "execution_count": 43,
   "metadata": {},
   "outputs": [
    {
     "name": "stdout",
     "output_type": "stream",
     "text": [
      "*\n",
      "**\n",
      "***\n",
      "****\n",
      "*****\n",
      "****\n",
      "***\n",
      "**\n",
      "*\n"
     ]
    }
   ],
   "source": [
    "max_stars = 5\n",
    "for i in range(0, max_stars): #for increasing stars\n",
    "    for j in range(0, i+1):\n",
    "        print('*', end='') #printing no of stars in same line\n",
    "    print('')# new line\n",
    "for i in range(max_stars-1,0,-1):  #for decreasing stars\n",
    "    for j in range(i):\n",
    "        print('*', end='') #printing no of stars in same line\n",
    "    print('') # new line"
   ]
  },
  {
   "cell_type": "code",
   "execution_count": 44,
   "metadata": {},
   "outputs": [
    {
     "name": "stdout",
     "output_type": "stream",
     "text": [
      "Enter word: ineuron\n",
      "norueni\n"
     ]
    }
   ],
   "source": [
    "word = input('Enter word: ')\n",
    "word_rev = word[::-1]\n",
    "print(word_rev)"
   ]
  }
 ],
 "metadata": {
  "kernelspec": {
   "display_name": "Python 3",
   "language": "python",
   "name": "python3"
  },
  "language_info": {
   "codemirror_mode": {
    "name": "ipython",
    "version": 3
   },
   "file_extension": ".py",
   "mimetype": "text/x-python",
   "name": "python",
   "nbconvert_exporter": "python",
   "pygments_lexer": "ipython3",
   "version": "3.6.5"
  }
 },
 "nbformat": 4,
 "nbformat_minor": 2
}
